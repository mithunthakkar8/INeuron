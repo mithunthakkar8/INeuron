{
  "nbformat": 4,
  "nbformat_minor": 0,
  "metadata": {
    "colab": {
      "provenance": []
    },
    "kernelspec": {
      "name": "python3",
      "display_name": "Python 3"
    },
    "language_info": {
      "name": "python"
    }
  },
  "cells": [
    {
      "cell_type": "markdown",
      "source": [
        "1. In the below elements which of them are values or an operator? \n",
        "*\n",
        "&#39;hello&#39;\n",
        "-87.8\n",
        "-\n",
        "/\n",
        "+\n",
        "6\n",
        "\n",
        "Ans. 'hello', -87.8 and 6 are values and *, -, / and + are operators."
      ],
      "metadata": {
        "id": "Rq2d5FD_gZbK"
      }
    },
    {
      "cell_type": "markdown",
      "source": [
        "2. What is the difference between string and variable?\n",
        "\n",
        "Ans. String is a data type that represents a sequence of characters. It is used to store and manipulate character data. In python, it can be created by enclosing the characters in single quotes or double quotes. Example of string is \"Mithun\" \n",
        "\n",
        "A variable is named stored location and acts as a container of data inside the program. Example of variable is name = 'Mithun'. Here name is a variable which stores a string value called 'Mithun'"
      ],
      "metadata": {
        "id": "6bEPaz0aiFjH"
      }
    },
    {
      "cell_type": "markdown",
      "source": [
        "3. Describe three different data types.\n",
        "\n",
        "Integers: Integers are whole numbers that do not have decimal values. They can be positive or negative.\n",
        "\n",
        "Floats: Floats are real numbers and contain decimal point followed by values\n",
        "\n",
        "Strings:String is a data type that represents a sequence of characters. It is used to store and manipulate character data."
      ],
      "metadata": {
        "id": "1--VApvyBDx9"
      }
    },
    {
      "cell_type": "markdown",
      "source": [
        "4. What is an expression made up of? What do all expressions do?\n",
        "\n",
        "Ans. An expression can be a combination of values, variables, operators, and function calls. All expressions are computations which, when evaluated, produce a value."
      ],
      "metadata": {
        "id": "D-desGcdCthR"
      }
    },
    {
      "cell_type": "markdown",
      "source": [
        "5. This assignment statements, like spam = 10. What is the difference between an\n",
        "expression and a statement?\n",
        "\n",
        "Ans. \n",
        "\n",
        "An assignment statement is used to store a value into a variable. Example of assignment statement x = 5. \n",
        "\n",
        "An expression can be a combination of values, variables, operators, and function calls. Example of expression is y = x + 3"
      ],
      "metadata": {
        "id": "ecTrg3YrF-_3"
      }
    },
    {
      "cell_type": "markdown",
      "source": [
        "6. After running the following code, what does the variable bacon contain?\n",
        "\n",
        "bacon = 22\n",
        "\n",
        "bacon + 1\n",
        "\n",
        "Ans. After running the code above, the variable bacon would contain the value 22. For it to contain 23, you need to reassign bacon+1 to bacon."
      ],
      "metadata": {
        "id": "8XXLW-FRG5NF"
      }
    },
    {
      "cell_type": "markdown",
      "source": [
        "7. What should the values of the following two terms be?\n",
        "\n",
        "'spam'+'spamspam'\n",
        "\n",
        "'spam'*3\n",
        "\n",
        "Ans. Both the above operations would return 'spamspamspam'"
      ],
      "metadata": {
        "id": "q7y9KypgHPPF"
      }
    },
    {
      "cell_type": "markdown",
      "source": [
        "8. Why is eggs a valid variable name while 100 is invalid?\n",
        "\n",
        "Ans. Eggs contains characters which is the general practice for declaring variable names. You can however also have numeric values and underscores in a variable. 100 is not a vaild variable name because it contains only numeric values. A variable cannot start with a number let alone containing numeric values."
      ],
      "metadata": {
        "id": "SltbQGK8LoMV"
      }
    },
    {
      "cell_type": "markdown",
      "source": [
        "9. What three functions can be used to get the integer, floating-point number, or string version of a value?\n",
        "\n",
        "Ans. int(), float() and str() are the three functions that can be used to get the integer, floating-point number or string version of a value\n"
      ],
      "metadata": {
        "id": "J66_IJokOpIc"
      }
    },
    {
      "cell_type": "markdown",
      "source": [
        "10. Why does this expression cause an error? How can you fix it?\n",
        "\n",
        "'I have eaten ' + 99 + ' burritos.'\n",
        "\n",
        "Ans. This expression is trying to concatenate strings with numbers. It can be fixed using the below code. The code is accepting the variable a in form of f string.\n",
        "\n",
        "a = 99\n",
        "\n",
        "f'I have eaten {a} burritos.'"
      ],
      "metadata": {
        "id": "ATJA0DE9UX8V"
      }
    }
  ]
}