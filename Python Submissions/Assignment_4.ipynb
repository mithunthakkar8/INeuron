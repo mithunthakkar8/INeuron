{
  "nbformat": 4,
  "nbformat_minor": 0,
  "metadata": {
    "colab": {
      "provenance": []
    },
    "kernelspec": {
      "name": "python3",
      "display_name": "Python 3"
    },
    "language_info": {
      "name": "python"
    }
  },
  "cells": [
    {
      "cell_type": "markdown",
      "source": [
        "1. What exactly is []?\n",
        "\n",
        "Ans. [] is used to declare a list. Example. You can create an empty list called a by using the code a = []."
      ],
      "metadata": {
        "id": "vdiOcf871t9_"
      }
    },
    {
      "cell_type": "markdown",
      "source": [
        "2. In a list of values stored in a variable called spam, how would you assign the value 'hello' as the\n",
        "third value? (Assume [2, 4, 6, 8, 10] are in spam.)\n",
        "\n",
        "Ans. I would use the code spam[2] = 'hello'"
      ],
      "metadata": {
        "id": "tGwqIObX1-sg"
      }
    },
    {
      "cell_type": "markdown",
      "source": [
        "Let's pretend the spam includes the list ['a', 'b', 'c', 'd'] for the next three queries.\n",
        "3. What is the value of spam[int(int('3' * 2) / 11)]?\n",
        "\n",
        "Ans. The value would be 'd'\n",
        "\n",
        "4. What is the value of spam[-1]?\n",
        "\n",
        "Ans. The value would be 'd'\n",
        "\n",
        "5. What is the value of spam[:2]?\n",
        "\n",
        "Ans. The value would be ['a', 'b']"
      ],
      "metadata": {
        "id": "l5z7LJEh20Ba"
      }
    },
    {
      "cell_type": "markdown",
      "source": [
        "Let's pretend bacon has the list [3.14, 'cat', 11, 'cat', True] for the next three questions.\n",
        "\n",
        "6. What is the value of bacon.index('cat')?\n",
        "\n",
        "Ans. The value would be 1\n",
        "\n",
        "7. How does bacon.append(99) change the look of the list value in bacon?\n",
        "\n",
        "Ans. This would add the value 99 at the end of the list.\n",
        "\n",
        "\n",
        "8. How does bacon.remove('cat') change the look of the list in bacon?\n",
        "\n",
        "Ans. This will remove the first value of cat inside the list bacon"
      ],
      "metadata": {
        "id": "rJPZiZ4Q1-o6"
      }
    },
    {
      "cell_type": "markdown",
      "source": [
        "9. What are the list concatenation and list replication operators?\n",
        "\n",
        "Ans. List concetenation operator in python is represented as '+'. It is used to append two or more lists together into a single list.\n",
        "\n",
        "List replication operator is represented as '*'. It is used to replicate the same list by the number of times mentioned after the operator."
      ],
      "metadata": {
        "id": "UY4DoFgqVy8f"
      }
    },
    {
      "cell_type": "markdown",
      "source": [
        "10. What is difference between the list methods append() and insert()?\n",
        "\n",
        "Ans. The append method inserts the element at the end of the list.\n",
        "eg. there is a list called a. a.append(10) would insert the value 10 at the end of the list.\n",
        "\n",
        "The insert method takes two arguments. The first argument specifies the position at which you would want to insert the element at. The second argument specifies the element which you want to insert.\n",
        "eg. a.insert(1,10) would insert the value 10 at position 1"
      ],
      "metadata": {
        "id": "8xIEuE2qYj_E"
      }
    },
    {
      "cell_type": "markdown",
      "source": [
        "11. What are the two methods for removing items from a list?\n",
        "\n",
        "Ans. The two methods used for removing items from a list are remove() and pop().\n",
        "\n",
        "remove() would remove the first occurence of the element inside the list.\n",
        "eg. remove('a') would remove the first occurence of the element 'a' from the list.\n",
        "\n",
        "pop() would remove the element placed at the position mentioned in the pop()\n",
        "eg. pop(2) would remove the element placed at the position 2 in the list."
      ],
      "metadata": {
        "id": "sgclJGEja1KG"
      }
    },
    {
      "cell_type": "markdown",
      "source": [
        "12. Describe how list values and string values are identical.\n",
        "\n",
        "Ans. List values and string values have several similarities as below:\n",
        "\n",
        "a. Both lists and strings are sequences in Python as they are ordered collections of elements where each element has a specific index or position.\n",
        "\n",
        "b. Both support indexing and slicing operations\n",
        "\n",
        "c. You can iterate over the elements of a list or a string using a loop.\n",
        "\n",
        "d. Both support the 'in' and 'not in' operators, allowing to check whether a specific value is available in the sequence.\n",
        "\n",
        "e. We can determine the length of a list or a string using the len() function, which returns the number of elements or characters in the sequence.\n",
        "\n"
      ],
      "metadata": {
        "id": "ABK3kjhJcG6w"
      }
    },
    {
      "cell_type": "markdown",
      "source": [
        "13. What's the difference between tuples and lists?\n",
        "\n",
        "Ans.\n",
        "\n",
        "a. Tuples are immutable i.e. you cannot add, remove or modify elements in the tuple once the tuple is created while you can add, remove or modify elements in the list after creating the list.\n",
        "\n",
        "b. Lists are defined using square brackets ([]) while tuples are created using round brackets (()).\n",
        "\n",
        "c. Tuples are more efficient in terms of memory usage and performance than lists because of their immutable nature.\n",
        "\n"
      ],
      "metadata": {
        "id": "3y2Qhe45fudv"
      }
    },
    {
      "cell_type": "markdown",
      "source": [
        "14. How do you type a tuple value that only contains the integer 42?\n",
        "\n",
        "Ans. a = (42,)"
      ],
      "metadata": {
        "id": "HST7TLvepL0d"
      }
    },
    {
      "cell_type": "markdown",
      "source": [
        "15. How do you get a list 's tuple form? How do you get a tuple values list form?\n",
        "\n",
        "Ans. You can use the function tuple() to get the list's tuple form. Eg. a = [1,2,3,4]\n",
        "\n",
        "tuple_a = tuple(a)"
      ],
      "metadata": {
        "id": "2wt3Ann5t9Kk"
      }
    },
    {
      "cell_type": "markdown",
      "source": [
        "16. Variables that \"contain\" list values are not necessarily lists themselves. Instead, what do they contain?\n",
        "\n",
        "Ans. They contain the reference to the list values. In Python, all objects, including lists, are stored in memory, and variables are used to refer to those objects. When you assign a list to a variable, the variable holds a reference to the memory location where the list object is stored."
      ],
      "metadata": {
        "id": "KwovD6eXFcyI"
      }
    },
    {
      "cell_type": "markdown",
      "source": [
        "17. How do you distinguish between copy.copy() and copy.deepcopy()?\n",
        "\n",
        "Ans. The copy.copy() function creates a shallow copy of an object. It produces a new object with a new reference, but the elements of the object are still references to the same objects as the original.\n",
        "\n",
        "The copy.deepcopy() function creates a deep copy of an object. It produces a new object with a new reference, including the elements of the object. If the object being copied contains nested objects, those objects are recursively copied as well, creating completely independent copies."
      ],
      "metadata": {
        "id": "3-xdWsuWIQf4"
      }
    }
  ]
}