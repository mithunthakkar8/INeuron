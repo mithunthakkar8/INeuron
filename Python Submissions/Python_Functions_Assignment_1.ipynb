{
  "nbformat": 4,
  "nbformat_minor": 0,
  "metadata": {
    "colab": {
      "provenance": []
    },
    "kernelspec": {
      "name": "python3",
      "display_name": "Python 3"
    },
    "language_info": {
      "name": "python"
    }
  },
  "cells": [
    {
      "cell_type": "markdown",
      "source": [
        "1. In Python, what is the difference between a built-in function and a user-defined function? Provide an\n",
        "example of each.\n",
        "\n",
        "  Ans. Built-in functions are predefined functions already built in to python without the programmer having to define them. Examples of this function are len(), type() etc.\n",
        "\n",
        "  User-defined functions are functions defined by the programmer. eg."
      ],
      "metadata": {
        "id": "yVGBDfH36Loc"
      }
    },
    {
      "cell_type": "code",
      "source": [
        "def my_name():\n",
        "  print(\"My name is Shahrukh\")\n",
        "\n",
        "my_name()"
      ],
      "metadata": {
        "colab": {
          "base_uri": "https://localhost:8080/"
        },
        "id": "pHHe76FX7u7A",
        "outputId": "6216792f-c57f-44c1-a872-229688c81c42"
      },
      "execution_count": 1,
      "outputs": [
        {
          "output_type": "stream",
          "name": "stdout",
          "text": [
            "My name is Shahrukh\n"
          ]
        }
      ]
    },
    {
      "cell_type": "markdown",
      "source": [
        "2. How can you pass arguments to a function in Python? Explain the difference between positional arguments and keyword arguments.\n",
        "\n",
        "  Ans. Arguments are specified after the function name, inside the parentheses.\n",
        "\n",
        "  Eg."
      ],
      "metadata": {
        "id": "INwqhHYI9pTb"
      }
    },
    {
      "cell_type": "code",
      "source": [
        "def Say_My_Name(name):\n",
        "  print(\"Your name is \", name)\n",
        "\n",
        "Say_My_Name(\"Heisenberg\")"
      ],
      "metadata": {
        "colab": {
          "base_uri": "https://localhost:8080/"
        },
        "id": "woU6GPvP98TV",
        "outputId": "e69acde6-c432-4da6-e3e2-65e211961fbc"
      },
      "execution_count": 2,
      "outputs": [
        {
          "output_type": "stream",
          "name": "stdout",
          "text": [
            "Your name is  Heisenberg\n"
          ]
        }
      ]
    },
    {
      "cell_type": "markdown",
      "source": [
        "3. What is the purpose of the return statement in a function? Can a function have multiple return\n",
        "statements? Explain with an example.\n",
        "\n",
        "Ans. A return statement returns a result from the function to the caller."
      ],
      "metadata": {
        "id": "BSwVhxN-99Tw"
      }
    },
    {
      "cell_type": "code",
      "source": [
        "#example\n",
        "def add(a,b):\n",
        "  return a+b\n",
        "  c = a-b\n",
        "\n",
        "add(2,3)"
      ],
      "metadata": {
        "id": "Hknk_ykE9-wb",
        "colab": {
          "base_uri": "https://localhost:8080/"
        },
        "outputId": "b058de20-ffe3-4e93-d8ad-9d69f3a4d062"
      },
      "execution_count": 4,
      "outputs": [
        {
          "output_type": "execute_result",
          "data": {
            "text/plain": [
              "5"
            ]
          },
          "metadata": {},
          "execution_count": 4
        }
      ]
    },
    {
      "cell_type": "markdown",
      "source": [
        "4. What are lambda functions in Python? How are they different from regular functions? Provide an example where a lambda function can be useful.\n",
        "\n",
        "Ans. A lambda function in Python is a small anonymous function that can take any number of arguments but can take only one expression. It is ideally used when you need an anonymous function for a short period of time.\n",
        "\n",
        "\n",
        "Difference between Lambda Function and Regular Function:\n",
        "\n",
        "\n",
        "\n",
        "|  | Lambda Function | Regular Function |\n",
        "|-----------------|-----------------|-----------------|\n",
        "|  Syntax | Lambda functions are defined using the lambda keyword followed by parameters and a single expression | Regular functions are created using the def keyword followed by the function name, parameters within paranthesis and a block of code. The block of code can span multiple lines and can have multiple expressions. |\n",
        "| Usage    | Lambda functions are used for short, simple operations and are commonly used as arguments to higher order functions like map(), filter() and sorted()    | Regular functions are used for more complex operations and they provide better readibility than lambda functions. |\n",
        "| Return Value    | Lambda functions implicitly return the result of the expression.    | Regular functions need to have a separate return statement mentioned for them to return values. If no return statement is provided, the function returns None |\n",
        "| Documentation    | Lambda Functions cannot have doc strings within them making them less suitable for documenting complex functionality | Regular functions can have docstrings to provide documentation about their purpose, parameters and return values.|\n"
      ],
      "metadata": {
        "id": "6kyIhQY4aNIN"
      }
    },
    {
      "cell_type": "code",
      "source": [
        "# Eg: Let's say you have a list of tuples which includes people's name and age. If you want to sort the list using lambda, you'd use the below:\n",
        "\n",
        "people = [(\"Charles\", 30), (\"Xavier\", 25), (\"Magneto\", 35), (\"Rob Schneider\", 20)]\n",
        "\n",
        "# Sort the list based on the age of the person\n",
        "sorted_men = sorted(people, key=lambda x: x[1])\n",
        "\n",
        "print(sorted_men)"
      ],
      "metadata": {
        "colab": {
          "base_uri": "https://localhost:8080/"
        },
        "id": "ZM9smnvLbNSe",
        "outputId": "f2c3a43d-b619-4c7d-da5f-c0a503341f96"
      },
      "execution_count": 6,
      "outputs": [
        {
          "output_type": "stream",
          "name": "stdout",
          "text": [
            "[('Rob Schneider', 20), ('Xavier', 25), ('Charles', 30), ('Magneto', 35)]\n"
          ]
        }
      ]
    },
    {
      "cell_type": "markdown",
      "source": [
        "5. How does the concept of \"scope\" apply to functions in Python? Explain the difference between local scope and global scope.\n",
        "\n",
        "Ans. When you define a function at the top level of a python script or module - it becomes a global function. A global function is accessible from anywhere within a script or module.\n",
        "\n",
        "When you define a function within a function, the function within is local to the enclosing function's scope. The function within can only be accessible from within the enclosing function and it is not visible outside of it."
      ],
      "metadata": {
        "id": "4T8n47FybKwN"
      }
    },
    {
      "cell_type": "markdown",
      "source": [
        "6. How can you use the \"return\" statement in a Python function to return multiple values?\n",
        "\n",
        "Ans. Return statement in a python function can be used to return values either as a tuple, a list or in an unpacked form. Examples of each are given below:"
      ],
      "metadata": {
        "id": "Wz9rr5bf5hJH"
      }
    },
    {
      "cell_type": "code",
      "source": [
        "# returning a tuple\n",
        "def multiple_values():\n",
        "    value1 = 20\n",
        "    value2 = 'Yes'\n",
        "    return value1, value2\n",
        "\n",
        "result = multiple_values()\n",
        "print(result)"
      ],
      "metadata": {
        "colab": {
          "base_uri": "https://localhost:8080/"
        },
        "id": "D8r94yJ35ga_",
        "outputId": "e4d14803-3767-4100-e842-b6c318f93c81"
      },
      "execution_count": 8,
      "outputs": [
        {
          "output_type": "stream",
          "name": "stdout",
          "text": [
            "(20, 'Yes')\n"
          ]
        }
      ]
    },
    {
      "cell_type": "code",
      "source": [
        "# returning a list\n",
        "def multiple_values():\n",
        "    value1 = 50\n",
        "    value2 = 'No'\n",
        "    value3 = [2, 1, 121]\n",
        "    return [value1, value2, value3]\n",
        "\n",
        "result = multiple_values()\n",
        "print(result)"
      ],
      "metadata": {
        "colab": {
          "base_uri": "https://localhost:8080/"
        },
        "id": "s1ohIWiN-2zO",
        "outputId": "9cb61d84-c09d-4966-aac6-ceec2062971a"
      },
      "execution_count": 9,
      "outputs": [
        {
          "output_type": "stream",
          "name": "stdout",
          "text": [
            "[50, 'No', [2, 1, 121]]\n"
          ]
        }
      ]
    },
    {
      "cell_type": "code",
      "source": [
        "# Unpacking returned values from a function\n",
        "def multiple_values():\n",
        "    value1 = 451\n",
        "    value2 = 'look'\n",
        "    return value1, value2\n",
        "\n",
        "val1, val2 = multiple_values()\n",
        "print(val1)\n",
        "print(val2)"
      ],
      "metadata": {
        "colab": {
          "base_uri": "https://localhost:8080/"
        },
        "id": "LmNOHoPz_A9o",
        "outputId": "1a355525-6cbc-4fd1-8c10-4d2f148a15ca"
      },
      "execution_count": 10,
      "outputs": [
        {
          "output_type": "stream",
          "name": "stdout",
          "text": [
            "451\n",
            "look\n"
          ]
        }
      ]
    },
    {
      "cell_type": "markdown",
      "source": [
        "7. What is the difference between the \"pass by value\" and \"pass by reference\" concepts when it comes to function arguments in Python?\n",
        "\n",
        "Ans. Depending on type of object you pass to a function, the function behaves differently. Immutable objects show \"pass by value\" whereas mutable objects show \"pass by reference\".\n",
        "\n"
      ],
      "metadata": {
        "id": "DXS8LY_65kG7"
      }
    },
    {
      "cell_type": "code",
      "source": [
        "# Here, we pass an integer in function call_by_value().\n",
        "# Integers are immutable objects, hence Python works according to call by value,\n",
        "# and the changes made in the function are not reflected outside the function.\n",
        "def call_by_value(x):\n",
        "    x = x * 2\n",
        "    print(\"in function value updated to\", x)\n",
        "\n",
        "# Here, in function call_by_reference() we pass a list that is an immutable object.\n",
        "# Python works according to call by reference in this function and the changes\n",
        "# made inside the function can also be seen outside the function.\n",
        "def call_by_reference(list):\n",
        "    list.append(\"D\")\n",
        "    print(\"in function list updated to\", list)\n",
        "\n",
        "my_list = [\"E\"]\n",
        "num = 6\n",
        "print(\"-------------Call by Value Example output----------------\")\n",
        "print(\"number before=\", num)\n",
        "call_by_value(num)\n",
        "print(\"after function num value=\", num)\n",
        "\n",
        "print(\"\\n-------------Call by Reference Example output----------------\")\n",
        "print(\"list before\",my_list)\n",
        "call_by_reference(my_list)\n",
        "print(\"after function list is \",my_list)"
      ],
      "metadata": {
        "colab": {
          "base_uri": "https://localhost:8080/"
        },
        "id": "LL_JFX1GaOAo",
        "outputId": "f331df6a-d697-43f8-a815-cee7da264e29"
      },
      "execution_count": 16,
      "outputs": [
        {
          "output_type": "stream",
          "name": "stdout",
          "text": [
            "-------------Call by Value Example output----------------\n",
            "number before= 6\n",
            "in function value updated to 12\n",
            "after function num value= 6\n",
            "\n",
            "-------------Call by Reference Example output----------------\n",
            "list before ['E']\n",
            "in function list updated to ['E', 'D']\n",
            "after function list is  ['E', 'D']\n"
          ]
        }
      ]
    },
    {
      "cell_type": "markdown",
      "source": [
        "8. Create a function that can intake integer or decimal value and do following operations:\n",
        "\n",
        "a. Logarithmic function (log x)\n",
        "\n",
        "b. Exponential function (exp(x))\n",
        "\n",
        "c. Power function with base 2 (2\n",
        "x\n",
        ")\n",
        "\n",
        "d. Square root"
      ],
      "metadata": {
        "id": "5i_IhKvTH31m"
      }
    },
    {
      "cell_type": "code",
      "source": [
        "import math\n",
        "\n",
        "def compute(a):\n",
        "  return math.log(a), math.exp(a), math.pow(2, a), math.sqrt(a)\n",
        "\n",
        "log_a, exp_a, pow_a, sqrt_a = compute(10)\n",
        "print(\"Log of a: \",log_a)\n",
        "print(\"Exponent of a: \",exp_a)\n",
        "print(\"Power with base 2 of a: \",pow_a)\n",
        "print(\"Square root of a: \",sqrt_a)"
      ],
      "metadata": {
        "colab": {
          "base_uri": "https://localhost:8080/"
        },
        "id": "HGQMoXGdJXUx",
        "outputId": "f8d6b4d5-e7e7-4f3a-da07-56df833192ba"
      },
      "execution_count": 26,
      "outputs": [
        {
          "output_type": "stream",
          "name": "stdout",
          "text": [
            "Log of a:  2.302585092994046\n",
            "Exponent of a:  22026.465794806718\n",
            "Power with base 2 of a:  1024.0\n",
            "Square root of a:  3.1622776601683795\n"
          ]
        }
      ]
    },
    {
      "cell_type": "markdown",
      "source": [
        "9. Create a function that takes a full name as an argument and returns first name and last name.\n"
      ],
      "metadata": {
        "id": "GU0fTg9PJOaK"
      }
    },
    {
      "cell_type": "code",
      "source": [
        "def split_string(name):\n",
        "  return name.split()\n",
        "\n",
        "full_name = \"Mithun Thakkar\"\n",
        "first_name, last_name = split_string(full_name)\n",
        "\n",
        "print(\"first name: \", first_name)\n",
        "print(\"last_name: \", last_name)"
      ],
      "metadata": {
        "colab": {
          "base_uri": "https://localhost:8080/"
        },
        "id": "j7t-0UF5H4dg",
        "outputId": "0a89c09a-5f0d-4d65-e4ad-27d6addcafcc"
      },
      "execution_count": 28,
      "outputs": [
        {
          "output_type": "stream",
          "name": "stdout",
          "text": [
            "first name:  Mithun\n",
            "last_name:  Thakkar\n"
          ]
        }
      ]
    }
  ]
}