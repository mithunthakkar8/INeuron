{
  "nbformat": 4,
  "nbformat_minor": 0,
  "metadata": {
    "colab": {
      "provenance": []
    },
    "kernelspec": {
      "name": "python3",
      "display_name": "Python 3"
    },
    "language_info": {
      "name": "python"
    }
  },
  "cells": [
    {
      "cell_type": "markdown",
      "source": [
        "Q.1. Create two int type variables, apply addition, subtraction, division and multiplications\n",
        "and store the results in variables. Then print the data in the following format by calling the\n",
        "variables:\n",
        "First variable is __ & second variable is __.\n",
        "Addition: __ + __ = __\n",
        "Subtraction: __ - __ = __\n",
        "Multiplication: __ * __ = __\n",
        "Division: __ / __ = __"
      ],
      "metadata": {
        "id": "5kIoGEcSO9U_"
      }
    },
    {
      "cell_type": "code",
      "execution_count": null,
      "metadata": {
        "colab": {
          "base_uri": "https://localhost:8080/"
        },
        "id": "B0vX6KMPOw8s",
        "outputId": "811500fa-5f8f-448a-c83b-c70c70a46ba3"
      },
      "outputs": [
        {
          "output_type": "stream",
          "name": "stdout",
          "text": [
            "First variable is:  2\n",
            "Second variable is:  3\n",
            "Addition is:  5\n",
            "Subtraction is:  -1\n",
            "Division is:  0.6666666666666666\n",
            "Multiplication is:  8\n"
          ]
        }
      ],
      "source": [
        "a = 2\n",
        "b = 3\n",
        "add = a+b\n",
        "sub = a-b\n",
        "div = a/b\n",
        "mul = a**b\n",
        "\n",
        "print(\"First variable is: \", a)\n",
        "print(\"Second variable is: \", b)\n",
        "print(\"Addition is: \", add)\n",
        "print(\"Subtraction is: \", sub)\n",
        "print(\"Division is: \", div)\n",
        "print(\"Multiplication is: \", mul)"
      ]
    },
    {
      "cell_type": "markdown",
      "source": [
        "Q.2. What is the difference between the following operators:\n",
        "(i) ‘/’ & ‘//’\n",
        "(ii) ‘**’ & ‘^’"
      ],
      "metadata": {
        "id": "kGx9rTV8PB8Z"
      }
    },
    {
      "cell_type": "markdown",
      "source": [
        "'/' gives you with the division between two numbers\n",
        "\n",
        "\n",
        "'//' gives you division between two numbers whilst rounding the result to zero decimals\n",
        "\n",
        "'**' stands for power of one number above the other. eg. 2 to the power of 3 = 8\n",
        "\n",
        "'^' stands for the bitwise XOR operator\n",
        "\n",
        "Note: Bitwise operations are used for low level programming which lead to highly efficient code execution as the code interacts directly at the hardware level"
      ],
      "metadata": {
        "id": "IDIgHd7dQgAc"
      }
    },
    {
      "cell_type": "markdown",
      "source": [
        "Q.3. List the logical operators."
      ],
      "metadata": {
        "id": "cFQ0G5PmPEUe"
      }
    },
    {
      "cell_type": "markdown",
      "source": [
        "1. and\n",
        "2. or\n",
        "3. not"
      ],
      "metadata": {
        "id": "_j0AdPlG3Mhi"
      }
    },
    {
      "cell_type": "markdown",
      "source": [
        "Q.4. Explain right shift operator and left shift operator with examples."
      ],
      "metadata": {
        "id": "7X-6NWzrPGg0"
      }
    },
    {
      "cell_type": "markdown",
      "source": [
        "Bitwise right shift operator is expressed as >> and it moves the left operand's value toward right by the number of bits specified by the right operand.\n",
        "\n",
        "Bitwise left shift operator is expressed as << and it moves the left operand's value toward left by the number of bits specified by the right operand.\n",
        "\n"
      ],
      "metadata": {
        "id": "KCO9f7hY3X8C"
      }
    },
    {
      "cell_type": "code",
      "source": [
        "a = 10\n",
        "print(\"Binary value of 10: \", bin(10))\n",
        "# print bitwise left shift operator\n",
        "print(\"a<<1 = \", a<<1)\n",
        "b = a<<1\n",
        "print(\"b<<1 = \", b<<1)\n",
        "# print bitwise right shift operator\n",
        "print(\"a>>1 = \", a>>1)\n",
        "b = a>>1\n",
        "print(\"b>>1 = \", b>>1)"
      ],
      "metadata": {
        "colab": {
          "base_uri": "https://localhost:8080/"
        },
        "id": "utPOFD7J6Oob",
        "outputId": "8a3ab6e4-1196-481e-abbb-3c43f63e82d5"
      },
      "execution_count": 15,
      "outputs": [
        {
          "output_type": "stream",
          "name": "stdout",
          "text": [
            "Binary value of 10:  0b1010\n",
            "a<<1 =  20\n",
            "b<<1 =  40\n",
            "a>>1 =  5\n",
            "b>>1 =  2\n"
          ]
        }
      ]
    },
    {
      "cell_type": "markdown",
      "source": [
        "Q.5. Create a list containing int type data of length 15. Then write a code to check if 10 is\n",
        "present in the list or not."
      ],
      "metadata": {
        "id": "nk0PmAdUPIca"
      }
    },
    {
      "cell_type": "code",
      "source": [
        "a = [1,2,3,4,5,6,7,8,9,10,11,12,13,14,15]\n",
        "print(\"Is 10 present in the list?: \",10 in a)"
      ],
      "metadata": {
        "id": "cmDQhSyxPJIn",
        "colab": {
          "base_uri": "https://localhost:8080/"
        },
        "outputId": "010d2799-2d36-4922-be54-6e83cb0f92ef"
      },
      "execution_count": 19,
      "outputs": [
        {
          "output_type": "stream",
          "name": "stdout",
          "text": [
            "Is 10 present in the list?:  True\n"
          ]
        }
      ]
    }
  ]
}