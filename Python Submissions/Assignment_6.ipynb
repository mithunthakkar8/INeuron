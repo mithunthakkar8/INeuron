{
  "nbformat": 4,
  "nbformat_minor": 0,
  "metadata": {
    "colab": {
      "provenance": []
    },
    "kernelspec": {
      "name": "python3",
      "display_name": "Python 3"
    },
    "language_info": {
      "name": "python"
    }
  },
  "cells": [
    {
      "cell_type": "markdown",
      "source": [
        "Q.1. What are keywords in python? Using the keyword library, print all the python keywords.\n",
        "\n",
        "Ans. Keywords in Python are reserved words that have predefined meanings and cannot be used as identifiers. They define the structure and logic of the code."
      ],
      "metadata": {
        "id": "ZTCQsQD7fCiH"
      }
    },
    {
      "cell_type": "code",
      "execution_count": null,
      "metadata": {
        "colab": {
          "base_uri": "https://localhost:8080/"
        },
        "id": "ONXDlmMjeSxO",
        "outputId": "4a8ca8be-27c1-43e2-e86b-32153b210374"
      },
      "outputs": [
        {
          "output_type": "execute_result",
          "data": {
            "text/plain": [
              "['False',\n",
              " 'None',\n",
              " 'True',\n",
              " 'and',\n",
              " 'as',\n",
              " 'assert',\n",
              " 'async',\n",
              " 'await',\n",
              " 'break',\n",
              " 'class',\n",
              " 'continue',\n",
              " 'def',\n",
              " 'del',\n",
              " 'elif',\n",
              " 'else',\n",
              " 'except',\n",
              " 'finally',\n",
              " 'for',\n",
              " 'from',\n",
              " 'global',\n",
              " 'if',\n",
              " 'import',\n",
              " 'in',\n",
              " 'is',\n",
              " 'lambda',\n",
              " 'nonlocal',\n",
              " 'not',\n",
              " 'or',\n",
              " 'pass',\n",
              " 'raise',\n",
              " 'return',\n",
              " 'try',\n",
              " 'while',\n",
              " 'with',\n",
              " 'yield']"
            ]
          },
          "metadata": {},
          "execution_count": 1
        }
      ],
      "source": [
        "import keyword\n",
        "keyword.kwlist"
      ]
    },
    {
      "cell_type": "markdown",
      "source": [
        "Q.2. What are the rules to create variables in python?\n",
        "\n",
        "Ans. The rules to create variables in python are:\n",
        "\n",
        "a. Variables can contain letters, numbers and underscores. Python is case sensitive and hence 'TheVariable' and 'theVariable' are different variable names.\n",
        "\n",
        "b. Variable names cannot start with numbers.\n",
        "\n",
        "c. Variable names must not include special characters like @,#,$ etc.\n",
        "\n",
        "d. You should avoid using reserved keywords for variable names.\n",
        "\n"
      ],
      "metadata": {
        "id": "HZ1d4zZ5fdJs"
      }
    },
    {
      "cell_type": "markdown",
      "source": [
        "Q.3. What are the standards and conventions followed for the nomenclature of variables in python to improve code readability and maintainability?\n",
        "\n",
        "Ans.\n",
        "\n",
        "Below are the standards and conventions followed:\n",
        "\n",
        "a. Variable names must be meaningful to the overall program being written.\n",
        "\n",
        "b. Words within the variables should be lower case and should be separated by underscores.\n",
        "\n",
        "e. You should avoid using long variable names. Ensure they are as small as possible whilst having the most meaning in terms of the program in general.\n",
        "\n",
        "f. Avoid using single letter variable names. eg. avoid using i as a variable name in the for loop. Instead use a variable name which is more meaningful for the for loop."
      ],
      "metadata": {
        "id": "jaHf2VlLqcQh"
      }
    },
    {
      "cell_type": "markdown",
      "source": [
        "Q.4. What will happen if a keyword is used as a variable name?\n",
        "\n",
        "Ans. This will give you a syntaxerror as you cannot assign a value to a variable."
      ],
      "metadata": {
        "id": "4mFXlaDsqcNE"
      }
    },
    {
      "cell_type": "markdown",
      "source": [
        "Q.5. For what purpose def keyword is used?\n",
        "\n",
        "Ans.\n",
        "\n",
        "Def keyword in python is used for creating a function.\n",
        "\n",
        "syntax for creating a function is\n",
        "\n",
        "def function_name(parameters):\n",
        "\n",
        "  '#function logic\n"
      ],
      "metadata": {
        "id": "UNoavhbCqcKb"
      }
    },
    {
      "cell_type": "markdown",
      "source": [
        "Q.6. What is the operation of this special character ‘\\’?\n",
        "\n",
        "Ans. \"\\\\\" has different usages as below:\n",
        "\n",
        "a. It can be used as an escape sequence for new line (\\\\n), tab (\\\\t) or for escaping special characters in strings.\n",
        "\n",
        "b. It can be used for line continuation within strings in case the string is too long for the IDE to accept.\n",
        "\n",
        "c. It can be used for representing unicode and special characters."
      ],
      "metadata": {
        "id": "AlDkB1kcqcHj"
      }
    },
    {
      "cell_type": "markdown",
      "source": [
        "Q.7. Give an example of the following conditions:\n",
        "\n",
        "(i) Homogeneous list\n",
        "Ans. A homogenous list is a list which contain homogenous data. Eg. either all are integers or all are strings. eg. a = \\['ads, 'dfs', 'fsa'], b = \\[12,5,2]\n",
        "\n",
        "(ii) Heterogeneous set\n",
        "Ans. It is a list that contains heterogenous data i.e. data of different data type.\n",
        "\n",
        "\n",
        "(iii) Homogeneous tuple\n",
        "Ans. It is a tuple which contains homogenous data. eg. either all data are integers or all are strings etc.\n"
      ],
      "metadata": {
        "id": "xwutid_cqcEz"
      }
    },
    {
      "cell_type": "markdown",
      "source": [
        "Q.8. Explain the mutable and immutable data types with proper explanation & examples.\n",
        "\n",
        "Ans. Mutable data types are those data types which can be modified or changed after creation. eg. of these are lists, dictionaries, sets.\n",
        "\n",
        "Immutable data types are those data types which can be modified or changed after creation. eg. of these are tuples, int, float, bool, string, unicode."
      ],
      "metadata": {
        "id": "KkXVAu06CNOn"
      }
    },
    {
      "cell_type": "markdown",
      "source": [
        "Q.9. Write a code to create the given structure using only for loop.\n",
        "\n",
        "\n",
        "![Screenshot 2023-07-07 164947.png](data:image/png;base64,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)\n",
        "\n",
        "Ans."
      ],
      "metadata": {
        "id": "0FXPFT-fDbwq"
      }
    },
    {
      "cell_type": "code",
      "source": [
        "rows = 5\n",
        "\n",
        "for i in range(1, rows+1):\n",
        "    for space in range(1, (rows-i)+1):\n",
        "        print(end=\"  \")\n",
        "\n",
        "    for _ in range(0,2*i-1):\n",
        "        print(\"* \", end=\"\")\n",
        "\n",
        "    print()"
      ],
      "metadata": {
        "id": "QFPb9Dv8f5X5",
        "colab": {
          "base_uri": "https://localhost:8080/"
        },
        "outputId": "5cc9c787-32c4-4203-c7c3-2a9cd63680df"
      },
      "execution_count": 11,
      "outputs": [
        {
          "output_type": "stream",
          "name": "stdout",
          "text": [
            "        * \n",
            "      * * * \n",
            "    * * * * * \n",
            "  * * * * * * * \n",
            "* * * * * * * * * \n"
          ]
        }
      ]
    },
    {
      "cell_type": "markdown",
      "source": [
        "Q.10. Write a code to create the given structure using while loop.\n",
        "\n",
        "\n",
        "![image.png](data:image/png;base64,iVBORw0KGgoAAAANSUhEUgAAAEMAAAB1CAYAAAAV6VzDAAAAAXNSR0IArs4c6QAAAARnQU1BAACxjwv8YQUAAAAJcEhZcwAAEnQAABJ0Ad5mH3gAAASoSURBVHhe7Z27L3RbGMZf9zsjQeJSaRFCSDQSCloF/4BIqDQUVE6pI1pqBRIkJATRiXtECA0S97u4360z7/rW+B6dg+EUz68x69l7rxk/s/faWe+sEWC8CLEEup/EC2UAlAH8JxkHBweyvb0teJnZ2tqS4+Nj1xJ5fn6WjY0Nubm5cYnYx5rpNh96jB7rQ/vUvvU5fOj+m5ubcnZ25hKRh4cHWV9fl+vra5eIfazZ4+OjSz6JXkA/SmVlpcnNzTW3t7cuMSYjI8PU1NS4ljHeX8jEx8ebvr4+lxgzMDBgPB6P3eajtrbWHutD+8zLyzMVFRUuMWZ3d9ckJCSY5uZmlxgzNzdnIiIiTHd3t0uM6erqMqGhoWZpackln4OnCUAZAGUAlAFQBkAZAGUAlAFQBkAZAGUAlAFQBkAZAGUAlIG4eY0PMTMzYyYmJszz87NLjBkfHzeLi4uu9WeSZnBw0Ozt7bnEmP39fZvhpJAeMzY25lrG9ql9T09Pu8SYu7s7MzQ0ZFZXV11izPn5uZ0s0okfHzpppNnFxYVLPgdLBQBPE4AyAMoAKAOgDODLMnp7e6W6uvpdoaetrU0aGxvfFXUaGhqko6PDtcTuX1VVJbOzsy4RmZubsxn21dnZKfX19a4lts+mpiZpbW11yffxZRkrKyviHePFe0/gEpHJyUkZHR2Vl5cXl4gMDw/L/Py8a4l47zmkv79fvPcLLhHx3ptIX1+f3eZDjxkZGXEtsX1q3/oc3w1PE4AyAMoAKAOgDIAyAMoAKAOgDIAyAMoAKAOgDIAyAMoAgv7x4h5/iouLC4mKipLS0lKJiIiw2cnJiaSlpUlRUZEEBQXZbH9/X3JyciQ7O9u2dV7i9PRUiouLJTk52WY6J6KfCi4rK3vr6/z8XJKSkqSkpMS2tbJxdHQkGRkZkp+fb7PvgnUTgKcJQBkAZQCUAVAG4BcZOrTqVD4ukNGFNtPT0+9qKWtra7K4uCivr68uEVlYWLALaXzo/lNTU3YY9js6tH43PT09doGMLpTx4b2dsQtpdnZ2XPL5xTz+gqcJQBkAZQCUAVAGQBkAZQCUAVAGQBkAZQCUAVAGQBkAZQB+kREaGioej0eCg4NdIhIeHi5xcXESGPj3KaOjoyUmJsa1/hAbGyuRkZGu5X2B3v21r5CQEJf4D7/UTfRrZbTQk5KSImFhYTbTYtDl5aWkpqa+STo8PLRFI90vICDAZjs7O1ZcQkKCbet2zRITE22xyp+wiATwmgFQBkAZAGUAPyZDv2xM6yk6OvjQpRRaD8G6iY44OvL8xnX9x2ToepPMzExZXl52iUh7e7v9jIUOsT7q6uqkvLxc7u/vXfJz/JiMp6cn+1fHBTn6brm6unr3ztB3C1bifhJeMwDKACgDoAyAMgDKACgDoAyAMgDKACgDoAyAMgDKACgD+PLim4+ihaX09HQpLCx8q3/oAhtdRFNQUGC3K1pYysvLk6ysrHcFp5+AdROApwlAGQBlAJQBUAbwqzL0v9+0tLTY7/r6P/CrMrR41NzcLEtLSy75XXiaAJQBUAZAGQBlAJQBUAZAGQBlAJQBUAZAGQBlvCHyLxHPRPTJL5VQAAAAAElFTkSuQmCC)"
      ],
      "metadata": {
        "id": "ulZEetSTEbIG"
      }
    },
    {
      "cell_type": "code",
      "source": [
        "rows = 5\n",
        "for i in range(rows,0,-1):\n",
        "    for j in range(rows-i):\n",
        "        print(' ', end='')\n",
        "\n",
        "    for j in range(2*i-1):\n",
        "        print('|',end='')\n",
        "    print()"
      ],
      "metadata": {
        "colab": {
          "base_uri": "https://localhost:8080/"
        },
        "id": "0YwnDBpBTzVS",
        "outputId": "c4c18be3-f43c-492f-c8b6-52c9c37da3c1"
      },
      "execution_count": 12,
      "outputs": [
        {
          "output_type": "stream",
          "name": "stdout",
          "text": [
            "|||||||||\n",
            " |||||||\n",
            "  |||||\n",
            "   |||\n",
            "    |\n"
          ]
        }
      ]
    }
  ]
}