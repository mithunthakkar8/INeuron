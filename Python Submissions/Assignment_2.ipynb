{
  "nbformat": 4,
  "nbformat_minor": 0,
  "metadata": {
    "colab": {
      "provenance": []
    },
    "kernelspec": {
      "name": "python3",
      "display_name": "Python 3"
    },
    "language_info": {
      "name": "python"
    }
  },
  "cells": [
    {
      "cell_type": "markdown",
      "source": [
        "1.What are the two values of the Boolean data type? How do you write them?\n",
        "\n",
        "Ans. The two values of the boolean data type are true and false. They can be  written as 'True' and 'False' in Python.\n",
        "\n",
        "They are a result of logical operations or comparison operations.\n",
        "Examples of comparison operators. 1==2 will evaluate to False, 2+3 >4 will evaluate to True.\n",
        "\n",
        "They can also be assigned to a variable.\n",
        "Example. is_important = True. This will assign the boolean value True to is_important"
      ],
      "metadata": {
        "id": "XzdrZbYzb8fS"
      }
    },
    {
      "cell_type": "markdown",
      "source": [
        "2. What are the three different types of Boolean operators?\n",
        "\n",
        "Ans. The three different types of boolean logical operators are 'and', 'or' and 'not'.\n",
        "\n",
        "a. 'and' operator returns true if both operands are True. Else it would return False.\n",
        "\n",
        "b. 'or' returns true if either or both of the operands are True. Else it would return as False\n",
        "\n",
        "\n",
        "c. 'not' is a unary operator which returns the opposite Boolean value of its operand.\n"
      ],
      "metadata": {
        "id": "8ZJdH1n8c88j"
      }
    },
    {
      "cell_type": "markdown",
      "source": [
        "3. Make a list of each Boolean operators truth tables (i.e. every possible combination of Boolean values for the operator and what it evaluate ).\n",
        "\n",
        "Ans.\n",
        "\n",
        "Truth table for 'or'\n",
        "\n",
        "Operand 1 | Operand 2 | Result\n",
        "\n",
        "True | True | True\n",
        "\n",
        "True | False | True\n",
        "\n",
        "False | True | True\n",
        "\n",
        "False | False | False\n",
        "\n",
        "------------------------------------\n",
        "\n",
        "Truth table for 'and'\n",
        "\n",
        "Operand 1 | Operand 2 | Result\n",
        "\n",
        "True | True | True\n",
        "\n",
        "True | False | False\n",
        "\n",
        "False | True | False\n",
        "\n",
        "False | False | False\n",
        "\n",
        "\n",
        "------------------------------------\n",
        "\n",
        "Truth table for 'not'\n",
        "\n",
        "Operand 1 | Result\n",
        "\n",
        "True | False\n",
        "\n",
        "False | True\n",
        "\n",
        "\n"
      ],
      "metadata": {
        "id": "Znn1oahUc85C"
      }
    },
    {
      "cell_type": "markdown",
      "source": [
        "4. What are the values of the following expressions?\n",
        "\n",
        "(5 > 4) and (3 == 5)\n",
        "\n",
        "not (5 > 4)\n",
        "\n",
        "(5 > 4) or (3 == 5)\n",
        "\n",
        "not ((5 > 4) or (3 == 5))\n",
        "\n",
        "(True and True) and (True == False)\n",
        "\n",
        "(not False) or (not True)\n",
        "\n",
        "Ans.\n",
        "\n",
        "(5 > 4) and (3 == 5) will return False\n",
        "\n",
        "not (5 > 4) will return True\n",
        "\n",
        "(5 > 4) or (3 == 5) will return True\n",
        "\n",
        "not ((5 > 4) or (3 == 5)) will return False\n",
        "\n",
        "(True and True) and (True == False) will return False\n",
        "\n",
        "(not False) or (not True) will return True\n"
      ],
      "metadata": {
        "id": "OqCkZwQEc814"
      }
    },
    {
      "cell_type": "markdown",
      "source": [
        "5. What are the six comparison operators?\n",
        "\n",
        "Ans.\n",
        "\n",
        "The six comparison operators in python are:\n",
        "\n",
        "== which stands for equal to\n",
        "\n",
        "\\> which stands for greater than\n",
        "\n",
        "< which stands for less than\n",
        "\n",
        "\\>= which stands for greater than equal to\n",
        "\n",
        "<= which stands for less than equal to\n",
        "\n",
        "!= which stands for not equal to"
      ],
      "metadata": {
        "id": "CxjnUQ_3jGYA"
      }
    },
    {
      "cell_type": "markdown",
      "source": [
        "6. How do you tell the difference between the equal to and assignment operators?Describe a condition and when you would use one.\n",
        "\n",
        "Ans.\n",
        "\n",
        "In python, the equal to operator is used for comparison and is expressed with double equal to symbols as '=='\n",
        "\n",
        "eg. a==b will check if the variables a and b have same values\n",
        "\n",
        "The assignment operator is represented with a single equal to symbol '=' and is used to assign a value to a variable.\n",
        "\n",
        "eg. a=4 will assign the value 4 to the variable a"
      ],
      "metadata": {
        "id": "OcnDu2t8jGUs"
      }
    },
    {
      "cell_type": "markdown",
      "source": [
        "7. Identify the three blocks in this code:\n",
        "\n",
        "spam = 0\n",
        "\n",
        "if spam == 10:\n",
        "\n",
        "print('eggs')\n",
        "\n",
        "if spam > 5:\n",
        "\n",
        "print('bacon')\n",
        "\n",
        "else:\n",
        "\n",
        "print('ham')\n",
        "\n",
        "print('spam')\n",
        "\n",
        "print('spam')\n"
      ],
      "metadata": {
        "id": "DJuqELKJm1cd"
      }
    },
    {
      "cell_type": "markdown",
      "source": [
        "Ans.\n",
        "\n",
        "spam = 0 is one block of code\n",
        "\n",
        "\n",
        "\n",
        "if spam == 10:\n",
        "\n",
        "print('eggs')\n",
        "\n",
        "is another block of code\n",
        "\n",
        "\n",
        "if spam > 5:\n",
        "\n",
        "print('bacon')\n",
        "\n",
        "else:\n",
        "\n",
        "print('ham')\n",
        "\n",
        "print('spam')\n",
        "\n",
        "print('spam')\n",
        "\n",
        "is the third block of code"
      ],
      "metadata": {
        "id": "DywdW1gKm1Y5"
      }
    },
    {
      "cell_type": "markdown",
      "source": [
        "8. Write code that prints Hello if 1 is stored in spam, prints Howdy if 2 is stored in spam, and prints\n",
        "Greetings! if anything else is stored in spam."
      ],
      "metadata": {
        "id": "tbQrcU6tni9n"
      }
    },
    {
      "cell_type": "code",
      "source": [
        "spam = 5\n",
        "if spam == 1:\n",
        "  print('Hello')\n",
        "elif spam == 2:\n",
        "  print('Howdy')\n",
        "else:\n",
        "  print('Greetings')"
      ],
      "metadata": {
        "colab": {
          "base_uri": "https://localhost:8080/"
        },
        "id": "j0me3OUBnkrQ",
        "outputId": "f512fc1b-f877-4f72-ff9d-6898f232afc1"
      },
      "execution_count": 4,
      "outputs": [
        {
          "output_type": "stream",
          "name": "stdout",
          "text": [
            "Greetings\n"
          ]
        }
      ]
    },
    {
      "cell_type": "markdown",
      "source": [
        "9.If your programme is stuck in an endless loop, what keys you’ll press?\n",
        "\n",
        "Ans. You can use Ctrl+c to interupt the python program if it is in an endless loop"
      ],
      "metadata": {
        "id": "Mi_DAKA0ni6A"
      }
    },
    {
      "cell_type": "markdown",
      "source": [
        "10. How can you tell the difference between break and continue?\n",
        "\n",
        "Ans.\n",
        "\n",
        "break: The break statement exits the loop prematurely. As soon as it is encountered, it terminates the loop and transfers control to the next statement following the loop. This means that the remaining iterations of the loop are ignored, and the program continues executions from the statement following the loop.\n",
        "\n",
        "Eg. for i in range(1, 10):\n",
        "    if i == 2:\n",
        "        break\n",
        "    print(i)\n",
        "\n",
        "would print\n",
        "\n",
        "1\n",
        "\n",
        "2\n",
        "\n",
        "continue: The continue statement is used to skip the current iteration of a loop and move to the next iteration. When encountered, it jumps to the beginning of the loop and ignores the remaining statements within the loop block for the current iteration. The loop continues executing from the next iteration.\n",
        "\n",
        "eg.\n",
        "\n",
        "for i in range(1, 7):\n",
        "    if i == 2:\n",
        "        continue\n",
        "    print(i)\n",
        "\n",
        "\n",
        "would print\n",
        "\n",
        "1\n",
        "\n",
        "3\n",
        "\n",
        "4\n",
        "\n",
        "5\n",
        "\n",
        "6\n",
        "\n",
        "7\n"
      ],
      "metadata": {
        "id": "LLxyDqZHni3G"
      }
    },
    {
      "cell_type": "markdown",
      "source": [
        "11. In a for loop, what is the difference between range(10), range(0, 10), and range(0, 10, 1)?\n",
        "\n",
        "Ans.\n",
        "\n",
        "All the three range(10), range(0, 10), and range(0, 10, 1) would return the same result i.e.\n",
        "\n",
        "0\n",
        "\n",
        "1\n",
        "\n",
        "2\n",
        "\n",
        "3\n",
        "\n",
        "4\n",
        "\n",
        "5\n",
        "\n",
        "6\n",
        "\n",
        "7\n",
        "\n",
        "8\n",
        "\n",
        "9\n",
        "\n",
        "\n",
        "Its just that they are three different ways of expressing the range function which takes in the parameters of start, stop and step values.\n",
        "in range(0,10,1), 0 is the start, 10 is the stop and 1 is the step value.\n",
        "this means the range starts from 0, ends at 10-1 i.e. 9 and will be incremented by 1 in every iteration."
      ],
      "metadata": {
        "id": "IB9ZDu-p4wvA"
      }
    },
    {
      "cell_type": "markdown",
      "source": [
        "12. Write a short program that prints the numbers 1 to 10 using a for loop. Then write an equivalent program that prints the numbers 1 to 10 using a while loop.\n",
        "\n",
        "Ans."
      ],
      "metadata": {
        "id": "n5B17kNE5shc"
      }
    },
    {
      "cell_type": "code",
      "source": [
        "for i in range(1,11):\n",
        "  print(i)"
      ],
      "metadata": {
        "colab": {
          "base_uri": "https://localhost:8080/"
        },
        "id": "PcCssdihjFZE",
        "outputId": "5b0f72c8-8a0b-455b-f45e-975f8784e6e1"
      },
      "execution_count": 5,
      "outputs": [
        {
          "output_type": "stream",
          "name": "stdout",
          "text": [
            "1\n",
            "2\n",
            "3\n",
            "4\n",
            "5\n",
            "6\n",
            "7\n",
            "8\n",
            "9\n",
            "10\n"
          ]
        }
      ]
    },
    {
      "cell_type": "code",
      "source": [
        "i = 1\n",
        "while(i<11):\n",
        "  print(i)\n",
        "  i = i+1"
      ],
      "metadata": {
        "colab": {
          "base_uri": "https://localhost:8080/"
        },
        "id": "_XIjocSu53yw",
        "outputId": "033927d0-8f78-4fe5-f0d4-04abccc5d5ff"
      },
      "execution_count": 6,
      "outputs": [
        {
          "output_type": "stream",
          "name": "stdout",
          "text": [
            "1\n",
            "2\n",
            "3\n",
            "4\n",
            "5\n",
            "6\n",
            "7\n",
            "8\n",
            "9\n",
            "10\n"
          ]
        }
      ]
    },
    {
      "cell_type": "markdown",
      "source": [
        "13. If you had a function named bacon() inside a module named spam, how would you call it after importing spam?\n",
        "\n",
        "Ans. I would use the statement spam.bacon()"
      ],
      "metadata": {
        "id": "DBiWeVP06DVY"
      }
    }
  ]
}