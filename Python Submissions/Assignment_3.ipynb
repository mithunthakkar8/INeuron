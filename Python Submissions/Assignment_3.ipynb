{
  "nbformat": 4,
  "nbformat_minor": 0,
  "metadata": {
    "colab": {
      "provenance": []
    },
    "kernelspec": {
      "name": "python3",
      "display_name": "Python 3"
    },
    "language_info": {
      "name": "python"
    }
  },
  "cells": [
    {
      "cell_type": "markdown",
      "source": [
        "1. Why are functions advantageous to have in your programs?\n",
        "\n",
        "Ans. Functions are useful in programs because:\n",
        "\n",
        "a. Reusability: They allow code to be reused multiple times with ease.\n",
        "\n",
        "b. Modularity: They allow the code to appear modular in nature - thereby allowing for complex problems to be broken down into smaller pieces of code.\n",
        "\n",
        "c. Abstraction: They allow to hide the implementation part of a piece of work behind an interface.\n",
        "\n",
        "d. Code Readability: They allow your code to be read with ease as you can assign appropriate names to functions for the particular piece of work that it does.\n",
        "\n",
        "e. Code organizaiton: They allow for organizing your code such that related code appears within a single function based on the code's functionality or purpose.\n",
        "\n",
        "f. Testing and debugging: Functions make debugging easier as those functions can be tested in isolation.\n"
      ],
      "metadata": {
        "id": "TC5tpYQC88ii"
      }
    },
    {
      "cell_type": "markdown",
      "source": [
        "2. When does the code in a function run: when it's specified or when it's called?\n",
        "\n",
        "Ans. The code in the function runs when the function is called."
      ],
      "metadata": {
        "id": "fBCL3GH5_LvF"
      }
    },
    {
      "cell_type": "markdown",
      "source": [
        "3. What statement creates a function?\n",
        "Ans. The Def statement creates a function.\n",
        "\n",
        "Eg.\n",
        "\n",
        "def do_this():\n",
        "\n",
        "  print('Doing')\n"
      ],
      "metadata": {
        "id": "Om6vWH-D_XHR"
      }
    },
    {
      "cell_type": "markdown",
      "source": [
        "4. What is the difference between a function and a function call?\n",
        "\n",
        "Ans.\n",
        "\n",
        "A function encapsulates a reusable piece of code which performs a particular task that needs to be done multiple times within the project.\n",
        "\n",
        "A function call is what invokes or executes the function. It is only after the function call is made that the code within the function is executed."
      ],
      "metadata": {
        "id": "yGtgZwaA_vJy"
      }
    },
    {
      "cell_type": "markdown",
      "source": [
        "5. How many global scopes are there in a Python program? How many local scopes?\n",
        "Ans.\n",
        "\n",
        "Global Scope: Global scope refers to the level where variables and functions are defined outside of any function or class. Variables and functions in this scope are accessible from anywhere within the program inside and outside other functions.\n",
        "\n",
        "Local Scopes: Local scope is created when a function or an if statement or a loop is executed. Variables or functions within the local scopes are temporary and exist only during the execution of the function or if statement or loop. The life of the local scope variables or functions last only within local scope and not outside it."
      ],
      "metadata": {
        "id": "s__xzc-ZERst"
      }
    },
    {
      "cell_type": "markdown",
      "source": [
        "6. What happens to variables in a local scope when the function call returns?\n",
        "\n",
        "Ans. When the function returns, local scope variables no longer exist and the memory assigned to them is deallocated.\n"
      ],
      "metadata": {
        "id": "atB8xGlnLOtx"
      }
    },
    {
      "cell_type": "markdown",
      "source": [
        "7. What is the concept of a return value? Is it possible to have a return value in an expression?\n",
        "\n",
        "Ans. Return value means the value that a function provides back to the code that called it. It is possible to have a return value in an expression. A function call can be treated as an expression, and the return value of that function can be used directly in another expression.\n",
        "\n",
        "Eg.\n"
      ],
      "metadata": {
        "id": "2wGmRgCzLab_"
      }
    },
    {
      "cell_type": "code",
      "execution_count": 1,
      "metadata": {
        "colab": {
          "base_uri": "https://localhost:8080/"
        },
        "id": "nvmi9DEo8ypp",
        "outputId": "3e0d0e0f-a9b6-4503-bb71-6207aee3411e"
      },
      "outputs": [
        {
          "output_type": "stream",
          "name": "stdout",
          "text": [
            "1.5\n"
          ]
        }
      ],
      "source": [
        "def multiply_numbers(m, n):\n",
        "    return m * n\n",
        "\n",
        "result = multiply_numbers(2, 3) / 4\n",
        "print(result)"
      ]
    },
    {
      "cell_type": "markdown",
      "source": [
        "8. If a function does not have a return statement, what is the return value of a call to that function?\n",
        "\n",
        "Ans. If a function does not have a return statement, the return value of the a call to that function would be None which represents the absence of a value or the lack of meaningful result."
      ],
      "metadata": {
        "id": "erBM_B-QUzzd"
      }
    },
    {
      "cell_type": "markdown",
      "source": [
        "10. What is the data type of None?\n",
        "\n",
        "Ans. The data type of None is NoneType"
      ],
      "metadata": {
        "id": "F3jpZcaNVmd4"
      }
    },
    {
      "cell_type": "markdown",
      "source": [
        "11. What does the sentence import areallyourpetsnamederic do?\n",
        "\n",
        "Ans. This will import the package or module named areallyourpetsnamederic if it is available in the project."
      ],
      "metadata": {
        "id": "GrcGZ_dtV2IR"
      }
    },
    {
      "cell_type": "markdown",
      "source": [
        "12. If you had a bacon() feature in a spam module, what would you call it after importing spam?\n",
        "\n",
        "Ans. I would use the line spam.bacon()"
      ],
      "metadata": {
        "id": "d2Ek8CK1WYXJ"
      }
    },
    {
      "cell_type": "markdown",
      "source": [
        "13. What can you do to save a programme from crashing if it encounters an error?\n",
        "\n",
        "Ans. To ensure I save the programme from carshing before it encounters an error - I would use exception handling. Exception handling in Python can be implemented using try... except block."
      ],
      "metadata": {
        "id": "H-J0w2aEzEcb"
      }
    },
    {
      "cell_type": "markdown",
      "source": [
        "14. What is the purpose of the try clause? What is the purpose of the except clause?\n",
        "\n",
        "Ans. Try clause encapsulates the logic where the error would occur. The except block would hold the block of code which will execute if the specified error would occur in the try block. You can capture specific errors that occur in the try block by mentioning the exception name in the catch block. Example. If you want to capture division by zero error inside the try block, you can mention as 'except ZeroDivisionError:' which will capture a division by zero error that may occur inside the try block."
      ],
      "metadata": {
        "id": "6CV_fOPUzoBl"
      }
    }
  ]
}