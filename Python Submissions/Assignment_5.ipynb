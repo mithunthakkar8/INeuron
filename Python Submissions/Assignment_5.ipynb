{
  "nbformat": 4,
  "nbformat_minor": 0,
  "metadata": {
    "colab": {
      "provenance": []
    },
    "kernelspec": {
      "name": "python3",
      "display_name": "Python 3"
    },
    "language_info": {
      "name": "python"
    }
  },
  "cells": [
    {
      "cell_type": "markdown",
      "source": [
        "1. What does an empty dictionary's code look like?\n",
        "\n",
        "Ans. There are two ways of creating an empty dictionary. One is by using curly braces and another is by creating using the dict() constructor.\n",
        "\n",
        "eg. empty_dict = {}\n",
        "\n",
        "empty_dict = dict()"
      ],
      "metadata": {
        "id": "xlqeyeAdaEeU"
      }
    },
    {
      "cell_type": "markdown",
      "source": [
        "2. What is the value of a dictionary value with the key 'foo' and the value 42?\n",
        "\n",
        "Ans. Lets say if we create a dictionary dict_dummy = {'foo': 42}, to find the dictionary value with the key 'foo', we use dict_dummy['foo']."
      ],
      "metadata": {
        "id": "8OSJFpU4aFlG"
      }
    },
    {
      "cell_type": "markdown",
      "source": [
        "3. What is the most significant distinction between a dictionary and a list?\n",
        "\n",
        "Ans. The most significant distinction between a dictionary and a list is that elements in a dictionary are unordered and can be accessed using keys while elements in a list are ordered and can be accessed using indexes."
      ],
      "metadata": {
        "id": "rDhfmgXyaFhi"
      }
    },
    {
      "cell_type": "markdown",
      "source": [
        "4. What happens if you try to access spam['foo'] if spam is {'bar': 100}?\n",
        "\n",
        "Ans.This will result in a keyerror because the key 'foo' does not exist within the spam dictionary."
      ],
      "metadata": {
        "id": "o7J8e3ebaFd8"
      }
    },
    {
      "cell_type": "markdown",
      "source": [
        "5. If a dictionary is stored in spam, what is the difference between the expressions 'cat' in spam and 'cat' in spam.keys()?\n",
        "\n",
        "Ans. Both the expressions 'cat' in spam and 'cat' in spam.keys() will check if 'cat' exists as a key inside the dictionary spam. If it exists, then that will evaluate to True. If it does not exists, then that will evaluate to False."
      ],
      "metadata": {
        "id": "_blJZNUrVctK"
      }
    },
    {
      "cell_type": "markdown",
      "source": [
        "6. If a dictionary is stored in spam, what is the difference between the expressions 'cat' in spam and 'cat' in spam.values()?\n",
        "\n",
        "Ans. The expression 'cat' in spam will check if the key 'cat' exists in the dictionary spam. The expression 'cat' in spam.values checks if the value 'cat' exists as a value in the spam.values."
      ],
      "metadata": {
        "id": "pMZudgksW73I"
      }
    },
    {
      "cell_type": "markdown",
      "source": [
        "7. What is a shortcut for the following code?\n",
        "\n",
        "if 'color' not in spam:\n",
        "\n",
        "spam['color'] = 'black'\n",
        "\n",
        "Ans. The shortcut for the code can be spam['color'] = 'black'"
      ],
      "metadata": {
        "id": "zMldn86tXpVt"
      }
    },
    {
      "cell_type": "markdown",
      "source": [
        "8. How do you &quot;pretty print&quot; dictionary values using which module and function?\n",
        "\n",
        "Ans. You can use json module with the function dumps to pretty print a dictionary. Or you can use the module pprint with the module PrettyPrinter and function pprint to pretty print a dictionary."
      ],
      "metadata": {
        "id": "mvMW_B9eZ70w"
      }
    }
  ]
}